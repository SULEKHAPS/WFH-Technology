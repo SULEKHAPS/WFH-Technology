{
 "cells": [
  {
   "cell_type": "code",
   "execution_count": 9,
   "id": "81cb511e-7730-483c-a82d-a569bddeb745",
   "metadata": {},
   "outputs": [
    {
     "name": "stdout",
     "output_type": "stream",
     "text": [
      "Requirement already satisfied: pandas in c:\\users\\admin\\appdata\\local\\programs\\python\\python311\\lib\\site-packages (2.2.3)\n",
      "Requirement already satisfied: numpy in c:\\users\\admin\\appdata\\local\\programs\\python\\python311\\lib\\site-packages (2.1.2)\n",
      "Requirement already satisfied: scikit-learn in c:\\users\\admin\\appdata\\local\\programs\\python\\python311\\lib\\site-packages (1.5.2)\n",
      "Requirement already satisfied: nltk in c:\\users\\admin\\appdata\\local\\programs\\python\\python311\\lib\\site-packages (3.9.1)\n",
      "Requirement already satisfied: python-dateutil>=2.8.2 in c:\\users\\admin\\appdata\\local\\programs\\python\\python311\\lib\\site-packages (from pandas) (2.9.0.post0)\n",
      "Requirement already satisfied: pytz>=2020.1 in c:\\users\\admin\\appdata\\local\\programs\\python\\python311\\lib\\site-packages (from pandas) (2024.2)\n",
      "Requirement already satisfied: tzdata>=2022.7 in c:\\users\\admin\\appdata\\local\\programs\\python\\python311\\lib\\site-packages (from pandas) (2023.3)\n",
      "Requirement already satisfied: scipy>=1.6.0 in c:\\users\\admin\\appdata\\local\\programs\\python\\python311\\lib\\site-packages (from scikit-learn) (1.14.1)\n",
      "Requirement already satisfied: joblib>=1.2.0 in c:\\users\\admin\\appdata\\local\\programs\\python\\python311\\lib\\site-packages (from scikit-learn) (1.4.2)\n",
      "Requirement already satisfied: threadpoolctl>=3.1.0 in c:\\users\\admin\\appdata\\local\\programs\\python\\python311\\lib\\site-packages (from scikit-learn) (3.5.0)\n",
      "Requirement already satisfied: click in c:\\users\\admin\\appdata\\local\\programs\\python\\python311\\lib\\site-packages (from nltk) (8.1.8)\n",
      "Requirement already satisfied: regex>=2021.8.3 in c:\\users\\admin\\appdata\\local\\programs\\python\\python311\\lib\\site-packages (from nltk) (2024.11.6)\n",
      "Requirement already satisfied: tqdm in c:\\users\\admin\\appdata\\local\\programs\\python\\python311\\lib\\site-packages (from nltk) (4.67.1)\n",
      "Requirement already satisfied: six>=1.5 in c:\\users\\admin\\appdata\\local\\programs\\python\\python311\\lib\\site-packages (from python-dateutil>=2.8.2->pandas) (1.16.0)\n",
      "Requirement already satisfied: colorama in c:\\users\\admin\\appdata\\local\\programs\\python\\python311\\lib\\site-packages (from click->nltk) (0.4.6)\n"
     ]
    },
    {
     "name": "stderr",
     "output_type": "stream",
     "text": [
      "\n",
      "[notice] A new release of pip is available: 24.3.1 -> 25.0\n",
      "[notice] To update, run: python.exe -m pip install --upgrade pip\n"
     ]
    }
   ],
   "source": [
    "!pip install pandas numpy scikit-learn nltk"
   ]
  },
  {
   "cell_type": "code",
   "execution_count": 23,
   "id": "886161c6-30f5-4bc2-a34c-1fc00c0e3d46",
   "metadata": {},
   "outputs": [
    {
     "name": "stderr",
     "output_type": "stream",
     "text": [
      "[nltk_data] Downloading package punkt to\n",
      "[nltk_data]     C:\\Users\\ADMIN\\AppData\\Roaming\\nltk_data...\n",
      "[nltk_data]   Package punkt is already up-to-date!\n",
      "[nltk_data] Downloading package stopwords to\n",
      "[nltk_data]     C:\\Users\\ADMIN\\AppData\\Roaming\\nltk_data...\n",
      "[nltk_data]   Package stopwords is already up-to-date!\n",
      "[nltk_data] Downloading package averaged_perceptron_tagger to\n",
      "[nltk_data]     C:\\Users\\ADMIN\\AppData\\Roaming\\nltk_data...\n",
      "[nltk_data]   Package averaged_perceptron_tagger is already up-to-\n",
      "[nltk_data]       date!\n"
     ]
    },
    {
     "data": {
      "text/plain": [
       "True"
      ]
     },
     "execution_count": 23,
     "metadata": {},
     "output_type": "execute_result"
    }
   ],
   "source": [
    "import nltk\n",
    "\n",
    "# Download all required NLTK data\n",
    "nltk.download('punkt')\n",
    "nltk.download('stopwords')\n",
    "nltk.download('averaged_perceptron_tagger')"
   ]
  },
  {
   "cell_type": "code",
   "execution_count": 24,
   "id": "800ad90c-004d-4ec2-b80f-27b6d1daa580",
   "metadata": {},
   "outputs": [],
   "source": [
    "import pandas as pd\n",
    "import numpy as np\n",
    "import re\n",
    "from nltk.corpus import stopwords\n",
    "from nltk.tokenize import word_tokenize\n",
    "from sklearn.model_selection import train_test_split\n",
    "from sklearn.feature_extraction.text import TfidfVectorizer\n",
    "from sklearn.linear_model import LogisticRegression\n",
    "from sklearn.metrics import classification_report\n",
    "import warnings\n",
    "warnings.filterwarnings('ignore')"
   ]
  },
  {
   "cell_type": "code",
   "execution_count": 25,
   "id": "4e79e4eb-e143-4d39-b439-7c666ca92124",
   "metadata": {},
   "outputs": [],
   "source": [
    "class SentimentAnalyzer:\n",
    "    def __init__(self, max_features=5000, test_size=0.2):\n",
    "        self.max_features = max_features\n",
    "        self.test_size = test_size\n",
    "        self.vectorizer = None\n",
    "        self.model = None\n",
    "        self.stop_words = set(stopwords.words('english'))\n",
    "\n",
    "    def load_and_prepare_data(self, file_path, nrows=None):\n",
    "        try:\n",
    "            df = pd.read_csv(file_path, nrows=nrows)\n",
    "            print(f\"Loaded {len(df)} reviews\")\n",
    "            \n",
    "            if not all(col in df.columns for col in ['review', 'sentiment']):\n",
    "                raise ValueError(\"Dataset missing required columns 'review' and 'sentiment'\")\n",
    "            \n",
    "            df['sentiment'] = df['sentiment'].map({'positive': 1, 'negative': 0})\n",
    "            df = df.dropna()\n",
    "            return df\n",
    "            \n",
    "        except Exception as e:\n",
    "            print(f\"Error loading data: {str(e)}\")\n",
    "            return None\n",
    "\n",
    "    def preprocess_text(self, text):\n",
    "        try:\n",
    "            # Simpler preprocessing without word_tokenize\n",
    "            text = str(text).lower()\n",
    "            text = re.sub(r'<[^>]+>', '', text)  # Remove HTML tags\n",
    "            text = re.sub(r'http\\S+|www\\S+', '', text)  # Remove URLs\n",
    "            text = re.sub(r'[^a-zA-Z\\s]', '', text)  # Remove special characters\n",
    "            text = ' '.join(text.split())  # Remove extra whitespace\n",
    "            \n",
    "            # Split into words and remove stopwords\n",
    "            words = text.split()\n",
    "            words = [word for word in words if word not in self.stop_words and len(word) > 2]\n",
    "            \n",
    "            return ' '.join(words)\n",
    "            \n",
    "        except Exception as e:\n",
    "            print(f\"Error in preprocessing: {str(e)}\")\n",
    "            return text\n",
    "\n",
    "    def train(self, df):\n",
    "        try:\n",
    "            print(\"Preprocessing reviews...\")\n",
    "            df['processed_review'] = df['review'].apply(self.preprocess_text)\n",
    "            \n",
    "            X_train, X_test, y_train, y_test = train_test_split(\n",
    "                df['processed_review'], \n",
    "                df['sentiment'],\n",
    "                test_size=self.test_size,\n",
    "                random_state=42,\n",
    "                stratify=df['sentiment']\n",
    "            )\n",
    "            \n",
    "            print(\"Performing TF-IDF vectorization...\")\n",
    "            self.vectorizer = TfidfVectorizer(\n",
    "                max_features=self.max_features,\n",
    "                ngram_range=(1, 2),\n",
    "                min_df=2,\n",
    "                max_df=0.95\n",
    "            )\n",
    "            X_train_tfidf = self.vectorizer.fit_transform(X_train)\n",
    "            X_test_tfidf = self.vectorizer.transform(X_test)\n",
    "            \n",
    "            print(\"Training model...\")\n",
    "            self.model = LogisticRegression(random_state=42, max_iter=1000)\n",
    "            self.model.fit(X_train_tfidf, y_train)\n",
    "            \n",
    "            y_pred = self.model.predict(X_test_tfidf)\n",
    "            print(\"\\nModel Performance:\")\n",
    "            print(classification_report(y_test, y_pred))\n",
    "            \n",
    "        except Exception as e:\n",
    "            print(f\"Error in training: {str(e)}\")\n",
    "\n",
    "    def predict_sentiment(self, text, return_probability=False):\n",
    "        try:\n",
    "            if not self.model or not self.vectorizer:\n",
    "                raise ValueError(\"Model not trained yet\")\n",
    "            \n",
    "            processed_text = self.preprocess_text(text)\n",
    "            text_tfidf = self.vectorizer.transform([processed_text])\n",
    "            prediction = self.model.predict(text_tfidf)[0]\n",
    "            probability = self.model.predict_proba(text_tfidf)[0]\n",
    "            \n",
    "            result = {\n",
    "                'sentiment': 'Positive' if prediction == 1 else 'Negative',\n",
    "                'confidence': float(probability.max())\n",
    "            }\n",
    "            \n",
    "            if return_probability:\n",
    "                result['probability'] = {\n",
    "                    'negative': float(probability[0]),\n",
    "                    'positive': float(probability[1])\n",
    "                }\n",
    "            \n",
    "            return result\n",
    "            \n",
    "        except Exception as e:\n",
    "            print(f\"Error in prediction: {str(e)}\")\n",
    "            return None"
   ]
  },
  {
   "cell_type": "code",
   "execution_count": 26,
   "id": "4607b07f-4b7d-45b5-96c2-af088ddcc9ef",
   "metadata": {},
   "outputs": [
    {
     "name": "stdout",
     "output_type": "stream",
     "text": [
      "Loaded 1000 reviews\n"
     ]
    }
   ],
   "source": [
    "# Initialize analyzer\n",
    "analyzer = SentimentAnalyzer(max_features=5000)\n",
    "\n",
    "# Load smaller subset of data first\n",
    "df = analyzer.load_and_prepare_data(\"C:/Users/ADMIN/Downloads/archive (2)/IMDB Dataset.csv\", nrows=1000)"
   ]
  },
  {
   "cell_type": "code",
   "execution_count": 27,
   "id": "04e840a0-cc2a-4e38-a657-7d74682ab2f7",
   "metadata": {},
   "outputs": [
    {
     "name": "stdout",
     "output_type": "stream",
     "text": [
      "Preprocessing reviews...\n",
      "Performing TF-IDF vectorization...\n",
      "Training model...\n",
      "\n",
      "Model Performance:\n",
      "              precision    recall  f1-score   support\n",
      "\n",
      "           0       0.82      0.83      0.83       100\n",
      "           1       0.83      0.82      0.82       100\n",
      "\n",
      "    accuracy                           0.82       200\n",
      "   macro avg       0.83      0.82      0.82       200\n",
      "weighted avg       0.83      0.82      0.82       200\n",
      "\n"
     ]
    }
   ],
   "source": [
    "if df is not None:\n",
    "    analyzer.train(df)"
   ]
  },
  {
   "cell_type": "code",
   "execution_count": 28,
   "id": "50578f38-af45-4468-8ad9-0a039f00aff3",
   "metadata": {},
   "outputs": [
    {
     "name": "stdout",
     "output_type": "stream",
     "text": [
      "\n",
      "Testing new reviews:\n",
      "\n",
      "Review: This movie was absolutely fantastic! The acting was superb and the plot was engaging throughout.\n",
      "Predicted Sentiment: Positive\n",
      "Confidence: 0.57\n",
      "\n",
      "Review: What a terrible waste of time. The plot made no sense and the acting was wooden.\n",
      "Predicted Sentiment: Negative\n",
      "Confidence: 0.82\n"
     ]
    }
   ],
   "source": [
    "# Test with new reviews\n",
    "test_reviews = [\n",
    "    \"This movie was absolutely fantastic! The acting was superb and the plot was engaging throughout.\",\n",
    "    \"What a terrible waste of time. The plot made no sense and the acting was wooden.\"\n",
    "]\n",
    "\n",
    "print(\"\\nTesting new reviews:\")\n",
    "for review in test_reviews:\n",
    "    result = analyzer.predict_sentiment(review, return_probability=True)\n",
    "    print(f\"\\nReview: {review}\")\n",
    "    print(f\"Predicted Sentiment: {result['sentiment']}\")\n",
    "    print(f\"Confidence: {result['confidence']:.2f}\")"
   ]
  },
  {
   "cell_type": "code",
   "execution_count": null,
   "id": "86de45f2-eb06-4735-b715-6d6f1a8cf3c9",
   "metadata": {},
   "outputs": [],
   "source": []
  }
 ],
 "metadata": {
  "kernelspec": {
   "display_name": "Python 3 (ipykernel)",
   "language": "python",
   "name": "python3"
  },
  "language_info": {
   "codemirror_mode": {
    "name": "ipython",
    "version": 3
   },
   "file_extension": ".py",
   "mimetype": "text/x-python",
   "name": "python",
   "nbconvert_exporter": "python",
   "pygments_lexer": "ipython3",
   "version": "3.11.3"
  }
 },
 "nbformat": 4,
 "nbformat_minor": 5
}
